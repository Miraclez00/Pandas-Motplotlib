
import numpy as np
import pandas as pd
import matplotlib.pyplot as pit
import seaborn as sb
df = pd.read_csv("all_recs.csv", encoding='unicode_escape')
df.head
<bound method NDFrame.head of            Date                     Location  \
0     31/12/2022  Iran (Islamic Republic of)   
1     31/12/2022    United States of America   
2     30/12/2022                      Poland   
3     30/12/2022    United States of America   
4     30/12/2022  Iran (Islamic Republic of)   
...          ...                         ...   
5298  31/10/2019                   Australia   
5299  31/10/2019    United States of America   
5300  31/10/2019    United States of America   
5301  31/10/2019                      France   
5302  31/10/2019                  Uzbekistan   

                                                 Victim  \
0                            State-run Iranian Websites   
1     Housing Authority of the City of Los Angeles (...   
2                                     Polish Parliament   
3                         CentraState Healthcare System   
4                                         Iran Airlines   
...                                                 ...   
5298                            Perth Anaesthetic Group   
5299                          Watertown School District   
5300                             Utah Valley Eye Center   
5301                                            Winamax   
5302                                Palestine Chronicle   

                                 Industry      Actor Location  \
0                   Public Administration        Undetermined   
1                   Public Administration        Undetermined   
2                   Public Administration  Russian Federation   
3       Health Care and Social Assistance        Undetermined   
4          Transportation and Warehousing             Ukraine   
...                                   ...                 ...   
5298    Health Care and Social Assistance        Undetermined   
5299                 Educational Services        Undetermined   
5300    Health Care and Social Assistance        Undetermined   
5301  Arts, Entertainment, and Recreation        Undetermined   
5302                          Information          Uzbekistan   

                                     Actor               Motive          Type  \
0                             Undetermined              Protest    Disruptive   
1                              LockBit 3.0            Financial  Exploitative   
2                            NoName057(16)              Protest    Disruptive   
3                             Undetermined         Undetermined    Disruptive   
4                          rootkitsecurity              Protest    Disruptive   
...                                    ...                  ...           ...   
5298                          Undetermined            Financial         Mixed   
5299                          Undetermined            Financial    Disruptive   
5300                          Undetermined            Financial    Exploitive   
5301                          Undetermined         Undetermined    Disruptive   
5302  National Security Service Unit 02616  Political-Espionage       Exploit   

                                               Sub-Type  Year  
0                           External Denial of Services  2022  
1                                          Undetermined  2022  
2                           External Denial of Services  2022  
3                                          Undetermined  2022  
4                           External Denial of Services  2022  
...                                                 ...   ...  
5298  Exploitation of Application Server,Message Man...  2019  
5299                                        Data Attack  2019  
5300                 Exploitation of Application Server  2019  
5301                         External Denial of Service  2019  
5302                                                NaN   NaN  

[5303 rows x 10 columns]>
df.info
<bound method DataFrame.info of            Date                     Location  \
0     31/12/2022  Iran (Islamic Republic of)   
1     31/12/2022    United States of America   
2     30/12/2022                      Poland   
3     30/12/2022    United States of America   
4     30/12/2022  Iran (Islamic Republic of)   
...          ...                         ...   
5298  31/10/2019                   Australia   
5299  31/10/2019    United States of America   
5300  31/10/2019    United States of America   
5301  31/10/2019                      France   
5302  31/10/2019                  Uzbekistan   

                                                 Victim  \
0                            State-run Iranian Websites   
1     Housing Authority of the City of Los Angeles (...   
2                                     Polish Parliament   
3                         CentraState Healthcare System   
4                                         Iran Airlines   
...                                                 ...   
5298                            Perth Anaesthetic Group   
5299                          Watertown School District   
5300                             Utah Valley Eye Center   
5301                                            Winamax   
5302                                Palestine Chronicle   

                                 Industry      Actor Location  \
0                   Public Administration        Undetermined   
1                   Public Administration        Undetermined   
2                   Public Administration  Russian Federation   
3       Health Care and Social Assistance        Undetermined   
4          Transportation and Warehousing             Ukraine   
...                                   ...                 ...   
5298    Health Care and Social Assistance        Undetermined   
5299                 Educational Services        Undetermined   
5300    Health Care and Social Assistance        Undetermined   
5301  Arts, Entertainment, and Recreation        Undetermined   
5302                          Information          Uzbekistan   

                                     Actor               Motive          Type  \
0                             Undetermined              Protest    Disruptive   
1                              LockBit 3.0            Financial  Exploitative   
2                            NoName057(16)              Protest    Disruptive   
3                             Undetermined         Undetermined    Disruptive   
4                          rootkitsecurity              Protest    Disruptive   
...                                    ...                  ...           ...   
5298                          Undetermined            Financial         Mixed   
5299                          Undetermined            Financial    Disruptive   
5300                          Undetermined            Financial    Exploitive   
5301                          Undetermined         Undetermined    Disruptive   
5302  National Security Service Unit 02616  Political-Espionage       Exploit   

                                               Sub-Type  Year  
0                           External Denial of Services  2022  
1                                          Undetermined  2022  
2                           External Denial of Services  2022  
3                                          Undetermined  2022  
4                           External Denial of Services  2022  
...                                                 ...   ...  
5298  Exploitation of Application Server,Message Man...  2019  
5299                                        Data Attack  2019  
5300                 Exploitation of Application Server  2019  
5301                         External Denial of Service  2019  
5302                                                NaN   NaN  

[5303 rows x 10 columns]>
df.describe
<bound method NDFrame.describe of            Date                     Location  \
0     31/12/2022  Iran (Islamic Republic of)   
1     31/12/2022    United States of America   
2     30/12/2022                      Poland   
3     30/12/2022    United States of America   
4     30/12/2022  Iran (Islamic Republic of)   
...          ...                         ...   
5298  31/10/2019                   Australia   
5299  31/10/2019    United States of America   
5300  31/10/2019    United States of America   
5301  31/10/2019                      France   
5302  31/10/2019                  Uzbekistan   

                                                 Victim  \
0                            State-run Iranian Websites   
1     Housing Authority of the City of Los Angeles (...   
2                                     Polish Parliament   
3                         CentraState Healthcare System   
4                                         Iran Airlines   
...                                                 ...   
5298                            Perth Anaesthetic Group   
5299                          Watertown School District   
5300                             Utah Valley Eye Center   
5301                                            Winamax   
5302                                Palestine Chronicle   

                                 Industry      Actor Location  \
0                   Public Administration        Undetermined   
1                   Public Administration        Undetermined   
2                   Public Administration  Russian Federation   
3       Health Care and Social Assistance        Undetermined   
4          Transportation and Warehousing             Ukraine   
...                                   ...                 ...   
5298    Health Care and Social Assistance        Undetermined   
5299                 Educational Services        Undetermined   
5300    Health Care and Social Assistance        Undetermined   
5301  Arts, Entertainment, and Recreation        Undetermined   
5302                          Information          Uzbekistan   

                                     Actor               Motive          Type  \
0                             Undetermined              Protest    Disruptive   
1                              LockBit 3.0            Financial  Exploitative   
2                            NoName057(16)              Protest    Disruptive   
3                             Undetermined         Undetermined    Disruptive   
4                          rootkitsecurity              Protest    Disruptive   
...                                    ...                  ...           ...   
5298                          Undetermined            Financial         Mixed   
5299                          Undetermined            Financial    Disruptive   
5300                          Undetermined            Financial    Exploitive   
5301                          Undetermined         Undetermined    Disruptive   
5302  National Security Service Unit 02616  Political-Espionage       Exploit   

                                               Sub-Type  Year  
0                           External Denial of Services  2022  
1                                          Undetermined  2022  
2                           External Denial of Services  2022  
3                                          Undetermined  2022  
4                           External Denial of Services  2022  
...                                                 ...   ...  
5298  Exploitation of Application Server,Message Man...  2019  
5299                                        Data Attack  2019  
5300                 Exploitation of Application Server  2019  
5301                         External Denial of Service  2019  
5302                                                NaN   NaN  

[5303 rows x 10 columns]>
year_order = df['Year'].value_counts().index
location_order = df['Location'].value_counts().index
motive_order = df['Motive'].value_counts().index
industry_order = df['Industry'].value_counts().index
base_color = sb.color_palette()[2]
pit.figure(figsize=(20,8))
pit.title("Attack Frequency by year")
sb.countplot(data=df,y='Year',color=base_color,order=year_order)
pit.xticks(rotation=45);

pit.figure(figsize=(20,8))
pit.title("Attack Frequency by Industry")
sb.countplot(data=df,y='Year',color=base_color,order=industry_order)
pit.xticks(rotation=45);
